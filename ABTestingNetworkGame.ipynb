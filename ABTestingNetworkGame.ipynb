{
 "cells": [
  {
   "cell_type": "markdown",
   "metadata": {},
   "source": [
    "### Analyzing Farmburg's A/B Test\n",
    "We're working on an A/B test with three different groups: A, B, and C. The data has the following columns:\n",
    "- user_id: a unique id for each visitor to the FarmBurg site\n",
    "- group: either 'A', 'B', or 'C' depending on which group the visitor was assigned to\n",
    "- is_purchase: either 'Yes' if the visitor made a purchase or 'No' if they did not."
   ]
  },
  {
   "cell_type": "code",
   "execution_count": 29,
   "metadata": {},
   "outputs": [
    {
     "name": "stdout",
     "output_type": "stream",
     "text": [
      "    user_id group is_purchase\n",
      "0  8e27bf9a     A          No\n",
      "1  eb89e6f0     A          No\n",
      "2  7119106a     A          No\n",
      "3  e53781ff     A          No\n",
      "4  02d48cf1     A         Yes\n"
     ]
    }
   ],
   "source": [
    "# Import libraries\n",
    "import pandas as pd\n",
    "import numpy as np\n",
    "\n",
    "from scipy.stats import chi2_contingency\n",
    "from scipy.stats import binom_test\n",
    "\n",
    "# Load the dataset and print out a sample\n",
    "abdata = pd.read_csv(\"clicks.csv\")\n",
    "print(abdata.head())"
   ]
  },
  {
   "cell_type": "markdown",
   "metadata": {},
   "source": [
    "We have two categorical variables: `group` and `is_purchase`. We are interested in whether visitors are more likely to make a purchase if they are in any one group compared to the others. Because we want to know if there is an association between two categorical variables, we’ll start by using a Chi-Square test to address our question."
   ]
  },
  {
   "cell_type": "code",
   "execution_count": 8,
   "metadata": {},
   "outputs": [
    {
     "name": "stdout",
     "output_type": "stream",
     "text": [
      "is_purchase    No  Yes\n",
      "group                 \n",
      "A            1350  316\n",
      "B            1483  183\n",
      "C            1583   83\n",
      "2.4126213546684264e-35\n"
     ]
    }
   ],
   "source": [
    "# Create a contingency table\n",
    "Xtab = pd.crosstab(abdata.group, abdata.is_purchase)\n",
    "# Print the result\n",
    "print(Xtab)\n",
    "\n",
    "# Run Chi-Square test and print the result\n",
    "chi2, pval, dof, expected = chi2_contingency(Xtab)\n",
    "print(pval)"
   ]
  },
  {
   "cell_type": "markdown",
   "metadata": {},
   "source": [
    "The p-value is equivalent to 0.0000000000000000000000000000000000241 and less than 0.05 and we can conclude that there is a significant difference in the purchase rate for groups A, B, and C.\n",
    "\n",
    "While it’s true that more people wanted to purchase the upgrade at $0.99, we could expect that. What we really want to know is whether each price point allows us to make enough money that we can exceed some target goal.\n",
    "\n",
    "In order to justify a new feature, we will need to calculate the necessary purchase rate for each price point. Let’s start by calculating the number of visitors to the site this week."
   ]
  },
  {
   "cell_type": "code",
   "execution_count": 9,
   "metadata": {},
   "outputs": [
    {
     "name": "stdout",
     "output_type": "stream",
     "text": [
      "4998\n"
     ]
    }
   ],
   "source": [
    "# Calculate the number of visitors\n",
    "num_visits = len(abdata)\n",
    "# Print the result\n",
    "print(num_visits)"
   ]
  },
  {
   "cell_type": "markdown",
   "metadata": {},
   "source": [
    "Now that we know how many visitors we generally get each week (`num_visits`), we need to calculate the number of visitors who would need to purchase the upgrade package at each price point ($0.99, $1.99, $4.99) in order to generate minimum revenue target of $1,000 per week.\n",
    "\n",
    "To start, we want to calculate the number of sales of $0.99 and calculate the proportion of weekly visitors who would need to make a purchase in order to reach $1,000 dollars of revenue."
   ]
  },
  {
   "cell_type": "code",
   "execution_count": 21,
   "metadata": {},
   "outputs": [
    {
     "name": "stdout",
     "output_type": "stream",
     "text": [
      "0.20210104243717691\n"
     ]
    }
   ],
   "source": [
    "# Calculate the number for 0,99 package\n",
    "num_sales_needed_099 = 1000 / 0.99\n",
    "\n",
    "# Calculate proportion for 0,99\n",
    "p_sales_needed_099 = num_sales_needed_099 / num_visits\n",
    "# Print the result\n",
    "print(p_sales_needed_099)"
   ]
  },
  {
   "cell_type": "code",
   "execution_count": 22,
   "metadata": {},
   "outputs": [
    {
     "name": "stdout",
     "output_type": "stream",
     "text": [
      "0.10054272965467594\n",
      "0.040096198800161346\n"
     ]
    }
   ],
   "source": [
    "# Calculate the number for 1,99 package\n",
    "num_sales_needed_199 = 1000 / 1.99\n",
    "# Calculate proportion for 1,99\n",
    "p_sales_needed_199 = num_sales_needed_199 / num_visits\n",
    "# Print the result\n",
    "print(p_sales_needed_199)\n",
    "\n",
    "# Calculate the number for 4,99 package\n",
    "num_sales_needed_499 = 1000 / 4.99\n",
    "\n",
    "# Calculate proportion for 4,99\n",
    "p_sales_needed_499 = num_sales_needed_499 / num_visits\n",
    "# Print the result\n",
    "print(p_sales_needed_499)\n"
   ]
  },
  {
   "cell_type": "markdown",
   "metadata": {},
   "source": [
    "Now we want to know if the percent of Group A (the $0.99 price point) that purchased an upgrade package is significantly greater than `p_sales_needed_099` (the percent of visitors who need to buy an upgrade package at $0.99 in order to make our minimum revenue target of $1,000).\n",
    "\n",
    "To answer this question, we want to focus on just the visitors in group A. Then, we want to compare the number of purchases in that group to `p_sales_needed_099`.\n",
    "\n",
    "Since we have a single sample of categorical data and want to compare it to a hypothetical population value, a binomial test is appropriate. In order to run a binomial test for group A, we need to know two pieces of information:\n",
    "- the number of visitors in group A (the number of visitors who were offered the $0.99 price point)\n",
    "- the number of visitors in Group A who made a purchase"
   ]
  },
  {
   "cell_type": "code",
   "execution_count": 27,
   "metadata": {},
   "outputs": [
    {
     "name": "stdout",
     "output_type": "stream",
     "text": [
      "1666\n",
      "316\n"
     ]
    }
   ],
   "source": [
    "# Calculate samp size & sales for 0.99 price point\n",
    "samp_size_099 = np.sum(abdata.group == 'A')\n",
    "sales_099 = np.sum((abdata.group == 'A') & (abdata.is_purchase == 'Yes'))\n",
    "\n",
    "# Print samp size & sales for 0.99 price point\n",
    "print(samp_size_099)\n",
    "print(sales_099)"
   ]
  },
  {
   "cell_type": "code",
   "execution_count": 28,
   "metadata": {},
   "outputs": [
    {
     "name": "stdout",
     "output_type": "stream",
     "text": [
      "1666\n",
      "183\n",
      "1666\n",
      "83\n"
     ]
    }
   ],
   "source": [
    "# Calculate samp size & sales for 1.99 price point\n",
    "samp_size_199 = np.sum(abdata.group == 'B')\n",
    "sales_199 = np.sum((abdata.group == 'B') & (abdata.is_purchase == 'Yes'))\n",
    "\n",
    "# Print samp size & sales for 1.99 price point\n",
    "print(samp_size_199)\n",
    "print(sales_199)\n",
    "\n",
    "# Calculate samp size & sales for 4.99 price point\n",
    "samp_size_499 = np.sum(abdata.group == 'C')\n",
    "sales_499 = np.sum((abdata.group == 'C') & (abdata.is_purchase == 'Yes'))\n",
    "\n",
    "# Print samp size & sales for 4.99 price point\n",
    "print(samp_size_499)\n",
    "print(sales_499)"
   ]
  },
  {
   "cell_type": "code",
   "execution_count": 31,
   "metadata": {},
   "outputs": [
    {
     "name": "stdout",
     "output_type": "stream",
     "text": [
      "0.9028081076188554\n",
      "0.11184562623740604\n",
      "0.027944826659830634\n"
     ]
    }
   ],
   "source": [
    "# Calculate the p-value for Group A\n",
    "pvalueA = binom_test(sales_099, n=samp_size_099, p=p_sales_needed_099, alternative=\"greater\")\n",
    "# Print the result\n",
    "print(pvalueA)\n",
    "\n",
    "# Calculate the p-value for Group B\n",
    "pvalueB = binom_test(sales_199, n=samp_size_199, p=p_sales_needed_199, alternative=\"greater\")\n",
    "#Print the result\n",
    "print(pvalueB)\n",
    "\n",
    "# Calculate the p-value for Group C\n",
    "pvalueC = binom_test(sales_499, n=samp_size_499, p=p_sales_needed_499, alternative=\"greater\")\n",
    "# Print the result\n",
    "print(pvalueC)\n"
   ]
  },
  {
   "cell_type": "markdown",
   "metadata": {},
   "source": [
    "`pvalueC` is the only p-value below the significant threshold of 0.05. Therefore, the C group is the only group where we would conclude that the purchase rate is significantly higher than the target needed to reach $1,000 revenue per week. Therefore, we should charge $4.99 for the upgrade."
   ]
  }
 ],
 "metadata": {
  "kernelspec": {
   "display_name": "Python 3.9.12 ('base')",
   "language": "python",
   "name": "python3"
  },
  "language_info": {
   "codemirror_mode": {
    "name": "ipython",
    "version": 3
   },
   "file_extension": ".py",
   "mimetype": "text/x-python",
   "name": "python",
   "nbconvert_exporter": "python",
   "pygments_lexer": "ipython3",
   "version": "3.9.12"
  },
  "orig_nbformat": 4,
  "vscode": {
   "interpreter": {
    "hash": "bad3e0717367b3cff4aae9c6c5645f8f35fe4ca9a016dd7720b001d80364b124"
   }
  }
 },
 "nbformat": 4,
 "nbformat_minor": 2
}
